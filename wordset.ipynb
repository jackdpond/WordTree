{
 "cells": [
  {
   "cell_type": "code",
   "execution_count": 3,
   "metadata": {},
   "outputs": [],
   "source": [
    "def permutations(string):\n",
    "    if len(string) == 0:\n",
    "        return ['']\n",
    "    \n",
    "    result = []\n",
    "    for i in range(len(string)):\n",
    "        first_char = string[i]\n",
    "        remaining_chars = string[:i] + string[i+1:]\n",
    "        for perm in permutations(remaining_chars):\n",
    "            result.append(first_char + perm)\n",
    "    \n",
    "    return result"
   ]
  },
  {
   "cell_type": "code",
   "execution_count": 4,
   "metadata": {},
   "outputs": [
    {
     "ename": "NameError",
     "evalue": "name 'words' is not defined",
     "output_type": "error",
     "traceback": [
      "\u001b[0;31m---------------------------------------------------------------------------\u001b[0m",
      "\u001b[0;31mNameError\u001b[0m                                 Traceback (most recent call last)",
      "\u001b[1;32m/Users/jackson/Documents/WordTree/WordTree/wordset.ipynb Cell 2\u001b[0m line \u001b[0;36m2\n\u001b[1;32m      <a href='vscode-notebook-cell:/Users/jackson/Documents/WordTree/WordTree/wordset.ipynb#W1sZmlsZQ%3D%3D?line=0'>1</a>\u001b[0m sets \u001b[39m=\u001b[39m []\n\u001b[0;32m----> <a href='vscode-notebook-cell:/Users/jackson/Documents/WordTree/WordTree/wordset.ipynb#W1sZmlsZQ%3D%3D?line=1'>2</a>\u001b[0m \u001b[39mfor\u001b[39;00m word \u001b[39min\u001b[39;00m words:\n\u001b[1;32m      <a href='vscode-notebook-cell:/Users/jackson/Documents/WordTree/WordTree/wordset.ipynb#W1sZmlsZQ%3D%3D?line=2'>3</a>\u001b[0m     short \u001b[39m=\u001b[39m [word]\n\u001b[1;32m      <a href='vscode-notebook-cell:/Users/jackson/Documents/WordTree/WordTree/wordset.ipynb#W1sZmlsZQ%3D%3D?line=3'>4</a>\u001b[0m     \u001b[39mfor\u001b[39;00m combo \u001b[39min\u001b[39;00m permutations(word):\n",
      "\u001b[0;31mNameError\u001b[0m: name 'words' is not defined"
     ]
    }
   ],
   "source": [
    "sets = []\n",
    "for word in words:\n",
    "    short = [word]\n",
    "    for combo in permutations(word):\n",
    "        if combo in words and combo != word:\n",
    "            short.append(combo)\n",
    "            words.remove(combo)\n",
    "    sets.append(short)"
   ]
  },
  {
   "cell_type": "code",
   "execution_count": 174,
   "metadata": {},
   "outputs": [
    {
     "name": "stdout",
     "output_type": "stream",
     "text": [
      "[['abets', 'baste', 'beats', 'beast', 'betas'], ['abode', 'adobe'], ['abuse', 'beaus'], ['abyss', 'bassy'], ['aches', 'chase'], ['acres', 'cares', 'races', 'scare'], ['acted', 'cadet'], ['actin', 'antic'], ['adder', 'dared', 'dread'], ['addle', 'laded'], ['adorn', 'rando'], ['afire', 'feria'], ['agree', 'eager'], ['aider', 'aired', 'irade'], ['aides', 'aside', 'ideas'], ['ailed', 'ideal'], ['aimed', 'amide', 'media'], ['aimer', 'ramie'], ['alarm', 'ramal'], ['alder', 'lader'], ['alert', 'alter', 'later'], ['allot', 'atoll'], ['alloy', 'loyal'], ['aloft', 'float'], ['alone', 'anole'], ['aloud', 'doula'], ['amber', 'bream'], ['amble', 'blame'], ['amend', 'named'], ['amine', 'anime'], ['amino', 'amnio'], ['ample', 'maple'], ['angel', 'angle'], ['anger', 'range'], ['angry', 'rangy'], ['anise', 'isnae'], ['antis', 'satin', 'stain'], ['antsy', 'nasty'], ['apply', 'lappy'], ['argon', 'organ'], ['argue', 'auger'], ['argus', 'sugar'], ['arils', 'rails', 'lairs'], ['arise', 'raise'], ['armed', 'dream'], ['array', 'yarra'], ['ascot', 'coast', 'coats', 'octas'], ['asked', 'kades'], ['asker', 'kesar', 'rakes'], ['askew', 'wakes'], ['asset', 'seats'], ['aster', 'tears', 'rates'], ['asura', 'auras'], ['avers', 'versa'], ['axels', 'axles'], ['azide', 'zaide'], ['azole', 'zoeal'], ['babka', 'kabab'], ['badly', 'baldy'], ['bails', 'basil'], ['bairn', 'brain'], ['baker', 'brake', 'break'], ['bakes', 'beaks'], ['baled', 'blade'], ['baler', 'blare'], ['bales', 'blase'], ['balsa', 'basal'], ['banes', 'beans'], ['bards', 'brads', 'drabs'], ['bared', 'bread', 'beard'], ['barer', 'barre'], ['bares', 'baser', 'bears'], ['barns', 'brans'], ['based', 'beads'], ['basis', 'isbas'], ['bayed', 'beady'], ['beamy', 'maybe'], ['beets', 'beset'], ['begin', 'being', 'binge'], ['below', 'bowel', 'elbow'], ['bidet', 'debit'], ['bikes', 'kibes'], ['birds', 'dribs'], ['biter', 'tribe'], ['bleat', 'table'], ['blots', 'bolts'], ['blows', 'bowls'], ['board', 'broad'], ['boast', 'boats'], ['boner', 'borne'], ['boney', 'ebony'], ['bonks', 'knobs'], ['bonus', 'bosun'], ['booms', 'bosom'], ['boons', 'boson'], ['boost', 'boots'], ['bozos', 'zobos'], ['brace', 'caber'], ['braze', 'zebra'], ['brief', 'fibre', 'fiber'], ['brunt', 'burnt'], ['budge', 'debug'], ['bugle', 'bulge'], ['cadre', 'cared', 'cedar'], ['cafes', 'faces'], ['calms', 'clams'], ['calve', 'clave'], ['caned', 'dance'], ['canoe', 'ocean'], ['canto', 'octan'], ['caper', 'crape'], ['capes', 'space'], ['carbo', 'carob', 'cobra'], ['carbs', 'crabs'], ['carol', 'coral'], ['carom', 'macro'], ['carps', 'craps', 'scrap'], ['carte', 'cater', 'crate', 'react', 'trace'], ['carve', 'caver', 'crave'], ['cause', 'sauce'], ['cents', 'scent'], ['chain', 'china'], ['charm', 'march'], ['chars', 'crash'], ['cheap', 'peach'], ['cheat', 'teach'], ['chief', 'fiche'], ['chine', 'niche'], ['chose', 'echos'], ['cider', 'cried'], ['cited', 'edict'], ['civet', 'evict'], ['clade', 'decal'], ['claps', 'clasp', 'scalp'], ['clean', 'lance'], ['cleat', 'eclat'], ['cline', 'incel'], ['clods', 'colds'], ['close', 'coles'], ['clots', 'colts'], ['cloud', 'could'], ['coals', 'colas'], ['coder', 'cored', 'credo', 'decor'], ['codes', 'coeds'], ['codon', 'condo'], ['coins', 'icons', 'sonic'], ['comet', 'comte'], ['coops', 'scoop'], ['copes', 'copse', 'scope'], ['cores', 'score'], ['corks', 'rocks'], ['corky', 'rocky'], ['corny', 'crony'], ['corps', 'crops'], ['crane', 'rance'], ['creep', 'crepe'], ['crews', 'screw'], ['crude', 'cured'], ['cruet', 'cuter'], ['cruse', 'curse', 'cures'], ['cycle', 'leccy'], ['dairy', 'diary'], ['dales', 'deals', 'lased', 'leads'], ['dares', 'dears', 'reads'], ['darns', 'rands'], ['dater', 'trade', 'rated'], ['dawns', 'wands'], ['dealt', 'delta'], ['deary', 'ready'], ['death', 'hated'], ['decaf', 'faced'], ['deeps', 'speed'], ['deify', 'edify'], ['deism', 'dimes'], ['deist', 'diets', 'edits'], ['delis', 'idles', 'isled', 'slide'], ['demos', 'domes', 'modes'], ['dense', 'needs'], ['dents', 'tends'], ['depot', 'opted'], ['devil', 'lived'], ['dewar', 'wader'], ['dilly', 'idyll'], ['dinar', 'drain', 'ranid'], ['dingo', 'doing'], ['dingy', 'dying'], ['dinks', 'kinds'], ['dinky', 'kindy'], ['direr', 'drier', 'rider'], ['dirge', 'ridge'], ['divan', 'viand'], ['diver', 'drive'], ['dolor', 'drool'], ['doors', 'odors'], ['dopes', 'posed'], ['drays', 'yards'], ['dries', 'rides'], ['duels', 'dulse'], ['dusty', 'study'], ['earls', 'rales', 'lears', 'laser'], ['early', 'relay', 'leary', 'layer'], ['earns', 'ranes'], ['earth', 'heart'], ['easel', 'lease', 'lease'], ['easer', 'erase'], ['egret', 'greet'], ['eland', 'laned', 'lande', 'laden'], ['emits', 'items', 'times'], ['endow', 'owned'], ['ensue', 'unsee'], ['eosin', 'noise'], ['epics', 'spice'], ['equal', 'quale'], ['erupt', 'upter'], ['ether', 'there', 'three'], ['ethos', 'those'], ['evens', 'seven'], ['evils', 'lives'], ['ewers', 'sewer'], ['exist', 'exits'], ['exurb', 'urbex'], ['facer', 'farce'], ['fader', 'fared'], ['fares', 'fears', 'safer'], ['fates', 'feats', 'feast'], ['feels', 'flees'], ['felts', 'lefts'], ['feral', 'flare'], ['fiefs', 'fifes'], ['field', 'filed'], ['fiend', 'fined'], ['filer', 'flier', 'rifle'], ['files', 'flies'], ['finer', 'infer'], ['fired', 'fried'], ['fires', 'fries'], ['fleet', 'lefte'], ['flesh', 'shelf'], ['gates', 'stage'], ['genre', 'green'], ['going', 'oggin'], ['grain', 'rangi'], ['grown', 'wrong'], ['halls', 'shall'], ['heads', 'shade'], ['hooks', 'shook'], ['horse', 'shore'], ['hosts', 'shots'], ['inert', 'inter'], ['inlet', 'intel'], ['inrun', 'inurn'], ['intra', 'train'], ['inure', 'urine'], ['islet', 'istle', 'tiles'], ['idols', 'solid'], ['ikans', 'kains'], ['ikats', 'katis'], ['inapt', 'paint'], ['inarm', 'ramin'], ['items', 'emits'], ['izars', 'zaris'], ['jeans', 'janes'], ['japes', 'jaspe'], ['jasey', 'yajes'], ['kills', 'skill'], ['knead', 'naked'], ['kayak', 'yakka'], ['kails', 'kalis'], ['kales', 'lakes', 'leaks'], ['kanes', 'snake', 'sneak'], ['karns', 'ranks'], ['karst', 'karts', 'stark'], ['karsy', 'yarks'], ['ketas', 'takes', 'steak', 'stake'], ['kidel', 'liked'], ['kinds', 'dinks'], ['lamps', 'psalm'], ['learn', 'renal'], ['least', 'leats', 'slate', 'steal', 'tales'], ['loads', 'odals'], ['loans', 'salon'], ['lodge', 'ogled'], ['loops', 'pools'], ['loves', 'solve'], ['lakes', 'kales'], ['lapin', 'plain'], ['lapse', 'leaps'], ['laser', 'earls'], ['later', 'alert'], ['leapt', 'plate'], ['leeps', 'sleep'], ['leets', 'steel'], ['males', 'meals'], ['mates', 'meats', 'teams', 'steam'], ['means', 'names'], ['merit', 'timer'], ['miles', 'smile'], ['nerve', 'never'], ['newer', 'renew'], ['night', 'thing'], ['notes', 'onset', 'tones', 'stone'], ['optic', 'topic'], ['ought', 'tough'], ['outer', 'route'], ['panel', 'plane'], ['parks', 'spark'], ['parts', 'traps', 'strap'], ['paste', 'tapes'], ['peaks', 'speak'], ['penis', 'spine'], ['pests', 'steps'], ['phase', 'shape'], ['poles', 'slope'], ['pores', 'ropes'], ['ports', 'sport'], ['posts', 'spots', 'stops'], ['purse', 'super'], ['quiet', 'quite'], ['qadis', 'qaids'], ['quads', 'squad'], ['queem', 'queme'], ['reset', 'steer', 'trees'], ['resin', 'risen', 'rinse'], ['rival', 'viral'], ['roman', 'ramon'], ['rakis', 'raksi'], ['range', 'anger'], ['ranks', 'karns'], ['sales', 'seals', 'lases'], ['serve', 'verse', 'verse'], ['setup', 'upset'], ['sheet', 'these'], ['state', 'taste'], ['stool', 'tools'], ['stove', 'votes'], ['strip', 'trips'], ['surge', 'urges'], ['swear', 'wears'], ['sweat', 'waste'], ['swing', 'wings'], ['sword', 'words'], ['throw', 'worth'], ['tired', 'tried'], ['tires', 'tries'], ['tower', 'wrote'], ['trail', 'trial'], ['trout', 'tutor'], ['tunes', 'unset'], ['unite', 'untie'], ['upset', 'setup'], ['urali', 'urial'], ['urase', 'ureas'], ['urine', 'inure'], ['views', 'wives'], ['verst', 'verts'], ['waist', 'waits'], ['weird', 'wired', 'wider'], ['wails', 'walis'], ['yeast', 'yates'], ['yards', 'drays'], ['yarta', 'yatra'], ['zorse', 'zeros']]\n"
     ]
    }
   ],
   "source": [
    "new_sets = []\n",
    "for set in sets:\n",
    "    if len(set) > 1:\n",
    "        new_sets.append(set)\n",
    "\n",
    "print(new_sets)"
   ]
  },
  {
   "cell_type": "code",
   "execution_count": 6,
   "metadata": {},
   "outputs": [],
   "source": [
    "def readlines(filename):\n",
    "    with open(filename, 'r') as file:\n",
    "        lines = file.readlines()\n",
    "    return lines"
   ]
  },
  {
   "cell_type": "code",
   "execution_count": 176,
   "metadata": {},
   "outputs": [],
   "source": [
    "sets = []\n",
    "for word in lines:\n",
    "    short = [word]\n",
    "    for combo in permutations(word):\n",
    "        if combo in lines and combo != word:\n",
    "            short.append(combo)\n",
    "            lines.remove(combo)\n",
    "    sets.append(short)"
   ]
  },
  {
   "cell_type": "code",
   "execution_count": null,
   "metadata": {},
   "outputs": [],
   "source": [
    "new_sets = []\n",
    "for set in sets:\n",
    "    if len(set) > 1:\n",
    "        new_sets.append(set)"
   ]
  },
  {
   "cell_type": "code",
   "execution_count": 7,
   "metadata": {},
   "outputs": [],
   "source": [
    "def assemble(filename, n):\n",
    "    lines = readlines(filename)\n",
    "    new_lines = []\n",
    "    for line in lines:\n",
    "        new_lines.append(line.rstrip('\\n'))\n",
    "    lines = new_lines\n",
    "\n",
    "    sets = []\n",
    "    for word in lines:\n",
    "        short = [word]\n",
    "        for combo in permutations(word):\n",
    "            if combo in lines and combo != word:\n",
    "                short.append(combo)\n",
    "                lines.remove(combo)\n",
    "        sets.append(short)\n",
    "\n",
    "    new_sets = []\n",
    "    for set in sets:\n",
    "        if len(set) > n:\n",
    "            new_sets.append(set)\n",
    "\n",
    "    return new_sets"
   ]
  },
  {
   "cell_type": "code",
   "execution_count": 40,
   "metadata": {},
   "outputs": [],
   "source": [
    "words_seven = assemble(\"words_seven.txt\")"
   ]
  },
  {
   "cell_type": "code",
   "execution_count": 41,
   "metadata": {},
   "outputs": [
    {
     "name": "stdout",
     "output_type": "stream",
     "text": [
      "[['abaters', 'abreast'], ['abiders', 'bardies', 'darbies'], ['abreact', 'bearcat'], ['acetoin', 'aconite'], ['achenes', 'enchase'], ['acmeism', 'cammies'], ['acouasm', 'acousma'], ['baetyls', 'beastly'], ['baiters', 'barites'], ['bardees', 'beaders', 'debaser'], ['bareges', 'bargees'], ['barging', 'garbing'], ['becharm', 'chamber'], ['bemuses', 'embuses'], ['betided', 'debited'], ['calmest', 'camlets'], ['capizes', 'capsize'], ['caprine', 'encarpi'], ['capstan', 'captans', 'catnaps'], ['centers', 'centres'], ['chancer', 'chancre'], ['claimed', 'medical', 'declaim', 'decimal'], ['cleared', 'declare'], ['courses', 'sources'], ['darting', 'trading'], ['dealers', 'leaders'], ['dealing', 'leading'], ['deboner', 'enrobed'], ['debrief', 'defiber', 'fibered'], ['deckels', 'deckles'], ['default', 'faulted'], ['demoths', 'methods'], ['eastern', 'earnest', 'nearest'], ['earning', 'grannie'], ['earplug', 'graupel'], ['easting', 'genista'], ['elapsed', 'pleased'], ['elector', 'electro'], ['elegies', 'elegise'], ['elegist', 'elegits'], ['eluding', 'indulge'], ['elution', 'outline'], ['emeries', 'emerise'], ['emerita', 'emirate'], ['encoder', 'encored'], ['enraged', 'grandee'], ['facials', 'fascial'], ['falsest', 'fatless'], ['fancies', 'fascine', 'fiances'], ['fastens', 'fatness'], ['feeding', 'feigned'], ['gallery', 'largely'], ['ganders', 'gardens'], ['gangers', 'granges'], ['gaolers', 'goalers'], ['garnets', 'strange'], ['garnish', 'sharing'], ['garoter', 'garrote'], ['garotes', 'storage'], ['garrets', 'garters', 'graters'], ['gasless', 'glasses'], ['gassers', 'grasses'], ['gastrin', 'gratins'], ['gateway', 'getaway'], ['general', 'gleaner'], ['gilders', 'gliders'], ['gilding', 'gliding'], ['gillnet', 'telling'], ['globins', 'goblins'], ['glossed', 'godless'], ['nuclear', 'unclear'], ['notices', 'section'], ['setting', 'testing']]\n"
     ]
    }
   ],
   "source": [
    "print(words_seven)"
   ]
  },
  {
   "cell_type": "code",
   "execution_count": 8,
   "metadata": {},
   "outputs": [],
   "source": [
    "def get_trees(root = [0], n = 0, max = 6):\n",
    "    trees = []\n",
    "    def generate(root, n, max):\n",
    "        # if n >= max -1:\n",
    "        #     return None\n",
    "        # if root[-1] >= (2**max)-1:\n",
    "        #     return None\n",
    "        if len(root) == max:\n",
    "            trees.append(root)\n",
    "            return None\n",
    "        if len(root) > max:\n",
    "            return None\n",
    "        if n >= len(root):\n",
    "            return None\n",
    "        \n",
    "        left = (root[n] * 2) + 1\n",
    "        lefter = root + [left]\n",
    "        right = (root[n] * 2) + 2\n",
    "        righter = root + [right]\n",
    "        doubler = lefter + [right]\n",
    "        \n",
    "        generate(lefter, n+1, max)\n",
    "        generate(righter, n+1, max)\n",
    "        generate(doubler, n+1, max)\n",
    "        generate(root, n+1, max)\n",
    "    generate(root, n, max)\n",
    "    return trees"
   ]
  },
  {
   "cell_type": "code",
   "execution_count": 135,
   "metadata": {},
   "outputs": [],
   "source": [
    "with open('words_five.txt', 'r') as file:\n",
    "    words = file.read().split()"
   ]
  },
  {
   "cell_type": "code",
   "execution_count": 10,
   "metadata": {},
   "outputs": [],
   "source": [
    "def breadth_first(tree):\n",
    "    result = ''\n",
    "    for char in tree.values():\n",
    "        result += char\n",
    "    return result\n",
    "\n",
    "def pre_order(tree):\n",
    "    word = []\n",
    "    def traverse(key, tree):\n",
    "        if key in tree.keys():\n",
    "            word.append(tree[key])\n",
    "            traverse((2*key)+1, tree)\n",
    "            traverse((2*key)+2, tree)\n",
    "    traverse(0, tree)\n",
    "    return ''.join(word)\n",
    "\n",
    "def in_order(tree):\n",
    "    word = []\n",
    "    def traverse(key, tree):\n",
    "        if key in tree.keys():\n",
    "            traverse((2*key)+1, tree)\n",
    "            word.append(tree[key])\n",
    "            traverse((2*key)+2, tree)\n",
    "    traverse(0, tree)\n",
    "    return ''.join(word)\n",
    "\n",
    "def post_order(tree):\n",
    "    word = []\n",
    "    def traverse(key, tree):\n",
    "        if key not in tree.keys():\n",
    "            return\n",
    "        traverse((2*key)+1, tree)\n",
    "        traverse((2*key)+2, tree)\n",
    "        word.append(tree[key])\n",
    "    traverse(0, tree)\n",
    "    return ''.join(word)\n",
    "\n",
    "def find_words(n):\n",
    "    mapper = {4:'four', 5:'five', 6:'six', 7:'seven', 8:'eight'}\n",
    "    num = mapper[n]\n",
    "    with open(f'words_{num}.txt', 'r') as file:\n",
    "        words = file.read().split()\n",
    "    print(f'words_{num}.txt')\n",
    "    return words\n",
    "\n",
    "def make_tree(combo, array):\n",
    "    tree = {}\n",
    "    for num, char in zip(array, combo):\n",
    "        tree[num] = char\n",
    "    return tree\n",
    "\n",
    "\n",
    "def check_tree(tree, n, words):\n",
    "    #words = find_words(len(combo))\n",
    "    #tree = make_tree(combo, array)\n",
    "\n",
    "    count = 0\n",
    "    pre = pre_order(tree)\n",
    "    ino = in_order(tree)\n",
    "    post = post_order(tree)\n",
    "    bf = breadth_first(tree)\n",
    "    true_trav = []\n",
    "    used = []\n",
    "    for trav in [pre, ino, post, bf]:\n",
    "        if trav in words and trav not in used:\n",
    "            count += 1\n",
    "            used.append(trav)\n",
    "            true_trav.append(trav)\n",
    "    if count >= n:\n",
    "        return tree, true_trav\n",
    "    else:\n",
    "        return None\n",
    "\n",
    "\n"
   ]
  },
  {
   "cell_type": "code",
   "execution_count": 67,
   "metadata": {},
   "outputs": [],
   "source": [
    "def tree2tuple(tree):\n",
    "    tup = tuple(list(tree.items()))\n",
    "    return tup\n",
    "\n",
    "def tuple2tree(trees):\n",
    "    solutions = []\n",
    "    for tree in trees:\n",
    "        solutions.append(dict(tree))\n",
    "    return solutions\n",
    "    "
   ]
  },
  {
   "cell_type": "code",
   "execution_count": 81,
   "metadata": {},
   "outputs": [],
   "source": [
    "import itertools\n",
    "\n",
    "def get_permutations(s):\n",
    "    permutations = itertools.permutations(s)\n",
    "    return [''.join(p) for p in permutations]\n",
    "\n",
    "def check_word(s,n, solutions, words, trees):\n",
    "    combos = get_permutations(s)\n",
    "    good_words = set()\n",
    "    tree_set = set()\n",
    "    for combo in combos:\n",
    "        for t in trees:\n",
    "            tree = make_tree(combo, t)\n",
    "            result = check_tree(tree, n, words)\n",
    "            if result: \n",
    "                tree_set.add(tree2tuple(tree))\n",
    "                good_words.update(result[1])\n",
    "    results = tuple2tree(tree_set)\n",
    "    solutions[tuple(good_words)] = results\n"
   ]
  },
  {
   "cell_type": "code",
   "execution_count": 48,
   "metadata": {},
   "outputs": [],
   "source": [
    "from collections import defaultdict\n",
    "\n",
    "def get_solutions(n, words, trees):\n",
    "    solutions = defaultdict(list)\n",
    "    for combo in words:\n",
    "        s = combo[0]\n",
    "        check_word(s, n , solutions, words = combo, trees = trees)\n",
    "    return solutions\n",
    "\n",
    "n = 2\n",
    "words = assemble('resources/words_six.txt', 1)\n",
    "trees = get_trees([0], 0, max = 6)\n",
    "\n",
    "solutions_6 = get_solutions(n, words, trees)"
   ]
  },
  {
   "cell_type": "code",
   "execution_count": 82,
   "metadata": {},
   "outputs": [],
   "source": [
    "n = 2\n",
    "words = assemble('resources/words_five.txt', 1)\n",
    "trees = get_trees([0], 0, max = 5)\n",
    "\n",
    "solutions_5 = get_solutions(n, words, trees)"
   ]
  },
  {
   "cell_type": "code",
   "execution_count": null,
   "metadata": {},
   "outputs": [],
   "source": [
    "n = 2\n",
    "words = assemble('resources/words_seven.txt', 1)\n",
    "trees = trees = get_trees([0], 0, max = 7)\n",
    "\n",
    "solutions_7 = get_solutions(n, words, trees)"
   ]
  },
  {
   "cell_type": "code",
   "execution_count": 26,
   "metadata": {},
   "outputs": [],
   "source": [
    "import sys\n",
    "sys.path.append('/Users/jackson/Documents/WordTree/WordTree')"
   ]
  },
  {
   "cell_type": "code",
   "execution_count": 49,
   "metadata": {},
   "outputs": [],
   "source": [
    "import numpy as np\n",
    "from collections import deque\n",
    "\n",
    "\n",
    "def tree_height(tree):\n",
    "    nodes = list(tree.keys())\n",
    "    max = nodes[-1] + 1\n",
    "    height = np.floor(np.log2(max))+1\n",
    "    return int(height)\n",
    "\n",
    "\n",
    "def num_spaces_for_level(height, level):\n",
    "    return (2**(height-level-1))-1\n",
    "\n",
    "\n",
    "def num_nodes_in_level(level):\n",
    "    if level == 0:\n",
    "        return 1\n",
    "    else:\n",
    "        return (2 * level)\n",
    "\n",
    "\n",
    "def print_spaces(quantity):\n",
    "    quantity = int(quantity)\n",
    "    s = ''\n",
    "    for i in range(quantity):\n",
    "        s += ' '\n",
    "    return s\n",
    "\n",
    "\n",
    "def get_left(tup, tree):\n",
    "    node, value = tup\n",
    "    left_child = (node * 2) + 1\n",
    "    if left_child in tree.keys():\n",
    "        #print(f'get_left--parent: {tup}, left_child: {left_child}, {tree[left_child]}')\n",
    "        return (left_child, tree[left_child])\n",
    "    else:\n",
    "        return None\n",
    "    \n",
    "\n",
    "def get_right(tup, tree):\n",
    "    node, value = tup\n",
    "    right_child = (node * 2) + 2\n",
    "    if right_child in tree.keys():\n",
    "        #print(f'get_right--parent: {tup}, right_child: {right_child}, {tree[right_child]}')\n",
    "        return (right_child, tree[right_child])\n",
    "    else:\n",
    "        return None\n",
    "\n",
    "\n",
    "def pretty_print_tree(tree):\n",
    "    result = ''\n",
    "    traversal = deque()\n",
    "    traversal.append(list(tree.items())[0])\n",
    "    #print(traversal)\n",
    "    height = tree_height(tree)\n",
    "    #print(f'height is {height}')\n",
    "    for l in range(height):\n",
    "        spaces_before = num_spaces_for_level(height, l)\n",
    "        spaces_in_between = (2*spaces_before)+1\n",
    "        #print(f'level: {l}, spaces between: {spaces_in_between}')\n",
    "        result += print_spaces(spaces_before)\n",
    "\n",
    "        nodes = num_nodes_in_level(l)\n",
    "        #print(f'nodes: {nodes}')\n",
    "        print_spaces_before = False\n",
    "        for ni in range(nodes):\n",
    "            if print_spaces_before:\n",
    "                result += print_spaces(spaces_in_between)\n",
    "            print_spaces_before = True\n",
    "            node = traversal.popleft()\n",
    "\n",
    "            if not node:\n",
    "                result += ' '\n",
    "                traversal.append(None)\n",
    "                traversal.append(None)\n",
    "            else:\n",
    "                spot, value = node\n",
    "                result += f'{value}'\n",
    "                traversal.append(get_left(node, tree))\n",
    "                traversal.append(get_right(node, tree))\n",
    "        if (l != height -1):\n",
    "            result += \"\\n\"\n",
    "    result += \"\\n\"\n",
    "    return(result)"
   ]
  },
  {
   "cell_type": "code",
   "execution_count": 42,
   "metadata": {},
   "outputs": [],
   "source": [
    "tup = ('abided',\n",
    "              'baddie')\n",
    "for tree in solutions_6[tup]:\n",
    "    pretty_print_tree(tree)"
   ]
  },
  {
   "cell_type": "code",
   "execution_count": 89,
   "metadata": {},
   "outputs": [],
   "source": [
    "def tuple2string(tup):\n",
    "    i = 0\n",
    "    s = ''\n",
    "    for item in tup:\n",
    "        if i > 0:\n",
    "            s += '/'\n",
    "        s+=item\n",
    "        i+=1\n",
    "    return s\n",
    "\n",
    "nsolutions_5 = {}\n",
    "\n",
    "for key, value in solutions_5.items():\n",
    "    nsolutions_5[tuple2string(key)] = value"
   ]
  },
  {
   "cell_type": "code",
   "execution_count": 91,
   "metadata": {},
   "outputs": [],
   "source": [
    "import json\n",
    "\n",
    "with open('solutions_5.json', 'w') as json_file:\n",
    "    json.dump(nsolutions_5, json_file, indent=4)"
   ]
  },
  {
   "cell_type": "code",
   "execution_count": 92,
   "metadata": {},
   "outputs": [],
   "source": [
    "trees_5 = {}\n",
    "for key, value in nsolutions_5.items():\n",
    "    final_list = []\n",
    "    for tree in value:\n",
    "        final_list.append(pretty_print_tree(tree))\n",
    "    trees_5[key] = final_list"
   ]
  },
  {
   "cell_type": "code",
   "execution_count": 94,
   "metadata": {},
   "outputs": [],
   "source": [
    "import json\n",
    "\n",
    "with open('trees_5.json', 'w') as json_file:\n",
    "    json.dump(trees_5, json_file, indent=4)"
   ]
  }
 ],
 "metadata": {
  "kernelspec": {
   "display_name": "Python 3",
   "language": "python",
   "name": "python3"
  },
  "language_info": {
   "codemirror_mode": {
    "name": "ipython",
    "version": 3
   },
   "file_extension": ".py",
   "mimetype": "text/x-python",
   "name": "python",
   "nbconvert_exporter": "python",
   "pygments_lexer": "ipython3",
   "version": "3.11.5"
  }
 },
 "nbformat": 4,
 "nbformat_minor": 2
}
