{
 "cells": [
  {
   "cell_type": "code",
   "execution_count": 35,
   "metadata": {},
   "outputs": [],
   "source": [
    "import itertools\n",
    "\n",
    "def get_permutations(s):\n",
    "    permutations = itertools.permutations(s)\n",
    "    return [''.join(p) for p in permutations]\n",
    "\n",
    "\n",
    "def readlines(filename):\n",
    "    with open(filename, 'r') as file:\n",
    "        lines = file.readlines()\n",
    "    return lines\n",
    "\n",
    "\n",
    "def assemble(filename, n=2):\n",
    "    lines = readlines(filename)\n",
    "    new_lines = []\n",
    "    for line in lines:\n",
    "        new_lines.append(line.rstrip('\\n'))\n",
    "    lines = new_lines\n",
    "\n",
    "    sets = []\n",
    "    for word in lines:\n",
    "        short = [word]\n",
    "        for combo in get_permutations(word):\n",
    "            if combo in lines and combo != word:\n",
    "                short.append(combo)\n",
    "                lines.remove(combo)\n",
    "        sets.append(short)\n",
    "\n",
    "    new_sets = []\n",
    "    for set in sets:\n",
    "        if len(set) >= n:\n",
    "            new_sets.append(set)\n",
    "\n",
    "    return new_sets"
   ]
  },
  {
   "cell_type": "code",
   "execution_count": 36,
   "metadata": {},
   "outputs": [],
   "source": [
    "fivers = assemble('resources/words_five.txt')"
   ]
  },
  {
   "cell_type": "code",
   "execution_count": 38,
   "metadata": {},
   "outputs": [
    {
     "name": "stdout",
     "output_type": "stream",
     "text": [
      "44\n",
      "[['abuse', 'beaus'], ['actin', 'antic'], ['addle', 'laded'], ['aloft', 'float'], ['amber', 'bream'], ['amble', 'blame'], ['argon', 'organ'], ['asked', 'kades'], ['askew', 'wakes'], ['azole', 'zoeal'], ['bidet', 'debit'], ['biter', 'tribe'], ['brace', 'caber'], ['braze', 'zebra'], ['budge', 'debug'], ['caned', 'dance'], ['cause', 'sauce'], ['clade', 'decal'], ['cline', 'incel'], ['cycle', 'leccy'], ['deary', 'ready'], ['dents', 'tends'], ['dewar', 'wader'], ['dinks', 'kinds'], ['dinky', 'kindy'], ['ensue', 'unsee'], ['eosin', 'noise'], ['epics', 'spice'], ['erupt', 'upter'], ['exurb', 'urbex'], ['grain', 'rangi'], ['grown', 'wrong'], ['heads', 'shade'], ['intra', 'train'], ['inure', 'urine'], ['karsy', 'yarks'], ['kinds', 'dinks'], ['leapt', 'plate'], ['phase', 'shape'], ['serve', 'verse', 'verse'], ['setup', 'upset'], ['tower', 'wrote'], ['upset', 'setup'], ['urine', 'inure']]\n"
     ]
    }
   ],
   "source": [
    "import json\n",
    "duds = []\n",
    "\n",
    "# Specify the path to your JSON file\n",
    "file_path = 'solutions/solutions_5.json'\n",
    "\n",
    "# Open the JSON file and read its content\n",
    "with open(file_path, 'r') as file:\n",
    "    data = json.load(file)\n",
    "\n",
    "keywords = ''\n",
    "for combo in data.keys():\n",
    "    keywords += f'{combo} '\n",
    "\n",
    "for combo in fivers:\n",
    "    dudly = True\n",
    "    for s in combo:\n",
    "        if s in keywords:\n",
    "            dudly = False\n",
    "    if dudly:\n",
    "        duds.append(combo)\n",
    "print(len(duds))\n",
    "print(duds)"
   ]
  },
  {
   "cell_type": "code",
   "execution_count": 39,
   "metadata": {},
   "outputs": [],
   "source": [
    "def get_duds(words_file, solutions_file):\n",
    "    assembly = assemble(words_file)\n",
    "    duds = []\n",
    "    with open(solutions_file, 'r') as file:\n",
    "        solutions = json.load(file)\n",
    "    keywords = ''\n",
    "    for solution in solutions.keys():\n",
    "        keywords += f'{solution} '\n",
    "    \n",
    "    for combo in assembly:\n",
    "        dudly = True\n",
    "        for s in combo:\n",
    "            if s in keywords:\n",
    "                dudly = False\n",
    "        if dudly:\n",
    "            duds.append(combo)\n",
    "    \n",
    "    return duds\n"
   ]
  },
  {
   "cell_type": "code",
   "execution_count": 40,
   "metadata": {},
   "outputs": [
    {
     "name": "stdout",
     "output_type": "stream",
     "text": [
      "[['adhere', 'header'], ['adverb', 'braved'], ['ageism', 'images'], ['aiders', 'raised'], ['aligns', 'signal'], ['altars', 'astral'], ['ambled', 'blamed', 'bedlam'], ['ambles', 'blames'], ['anemic', 'cinema'], ['aorist', 'ratios'], ['ascent', 'stance'], ['aspire', 'praise'], ['assert', 'asters'], ['badger', 'barged'], ['bestir', 'biters', 'tribes'], ['bowers', 'browse'], ['brides', 'debris'], ['briefs', 'fibers'], ['brutes', 'buster'], ['canoes', 'oceans'], ['cantor', 'carton'], ['carpel', 'parcel'], ['chines', 'inches'], ['course', 'source'], ['credit', 'direct'], ['dealer', 'leader'], ['desire', 'reside'], ['duties', 'suited'], ['hatred', 'thread'], ['ignore', 'region'], ['kindle', 'linked'], ['lowest', 'towels'], ['phases', 'shapes'], ['plains', 'spinal'], ['suites', 'tissue']]\n"
     ]
    }
   ],
   "source": [
    "duds6 = get_duds('resources/words_six.txt', 'solutions/solutions_6.json')\n",
    "len(duds6)\n",
    "print(duds6)"
   ]
  },
  {
   "cell_type": "code",
   "execution_count": 41,
   "metadata": {},
   "outputs": [
    {
     "name": "stdout",
     "output_type": "stream",
     "text": [
      "35\n"
     ]
    }
   ],
   "source": [
    "print(len(duds6))"
   ]
  },
  {
   "cell_type": "code",
   "execution_count": 42,
   "metadata": {},
   "outputs": [
    {
     "name": "stdout",
     "output_type": "stream",
     "text": [
      "10\n",
      "[['anti', 'tian'], ['arch', 'char'], ['cami', 'mica'], ['chin', 'inch'], ['chit', 'itch'], ['keto', 'toke'], ['lyre', 'rely'], ['mise', 'semi'], ['pyro', 'ropy'], ['rota', 'taro']]\n"
     ]
    }
   ],
   "source": [
    "duds4 = get_duds('resources/words_four.txt', 'solutions/solutions_4.json')\n",
    "print(len(duds4))\n",
    "print(duds4)"
   ]
  },
  {
   "cell_type": "code",
   "execution_count": 43,
   "metadata": {},
   "outputs": [],
   "source": [
    "code = { 4 : 'four',\n",
    "        5 : 'five',\n",
    "        6 : 'six',\n",
    "        7 : 'seven',\n",
    "        8 : 'eight'}\n",
    "assembly = {}\n",
    "for i in range(4, 9):\n",
    "    assembly[i] = assemble(f'resources/words_{code[i]}.txt')\n",
    "    with open('assembly.json', 'w') as json_file:\n",
    "        json.dump(assembly, json_file, indent=4)"
   ]
  }
 ],
 "metadata": {
  "kernelspec": {
   "display_name": "Python 3",
   "language": "python",
   "name": "python3"
  },
  "language_info": {
   "codemirror_mode": {
    "name": "ipython",
    "version": 3
   },
   "file_extension": ".py",
   "mimetype": "text/x-python",
   "name": "python",
   "nbconvert_exporter": "python",
   "pygments_lexer": "ipython3",
   "version": "3.11.5"
  }
 },
 "nbformat": 4,
 "nbformat_minor": 2
}
