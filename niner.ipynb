{
 "cells": [
  {
   "cell_type": "code",
   "execution_count": 35,
   "metadata": {},
   "outputs": [],
   "source": [
    "import itertools\n",
    "\n",
    "def get_permutations(s):\n",
    "    permutations = itertools.permutations(s)\n",
    "    return [''.join(p) for p in permutations]\n",
    "\n",
    "\n",
    "def readlines(filename):\n",
    "    with open(filename, 'r') as file:\n",
    "        lines = file.readlines()\n",
    "    return lines\n",
    "\n",
    "\n",
    "def assemble(filename, n=2):\n",
    "    lines = readlines(filename)\n",
    "    new_lines = []\n",
    "    for line in lines:\n",
    "        new_lines.append(line.rstrip('\\n'))\n",
    "    lines = new_lines\n",
    "\n",
    "    sets = []\n",
    "    for word in lines:\n",
    "        short = [word]\n",
    "        for combo in get_permutations(word):\n",
    "            if combo in lines and combo != word:\n",
    "                short.append(combo)\n",
    "                lines.remove(combo)\n",
    "        sets.append(short)\n",
    "\n",
    "    new_sets = []\n",
    "    for set in sets:\n",
    "        if len(set) >= n:\n",
    "            new_sets.append(set)\n",
    "\n",
    "    return new_sets"
   ]
  },
  {
   "cell_type": "code",
   "execution_count": 46,
   "metadata": {},
   "outputs": [],
   "source": [
    "def get_duds(num, solutions_file):\n",
    "    import json\n",
    "    with open('assembly.json', 'r') as file:\n",
    "        data = json.load(file)\n",
    "    assembly = data[str(num)]\n",
    "    duds = []\n",
    "    with open(solutions_file, 'r') as file:\n",
    "        solutions = json.load(file)\n",
    "    keywords = ''\n",
    "    for solution in solutions.keys():\n",
    "        keywords += f'{solution} '\n",
    "    \n",
    "    for combo in assembly:\n",
    "        dudly = True\n",
    "        for s in combo:\n",
    "            if s in keywords:\n",
    "                dudly = False\n",
    "        if dudly:\n",
    "            duds.append(combo)\n",
    "    \n",
    "    return duds\n"
   ]
  },
  {
   "cell_type": "code",
   "execution_count": 48,
   "metadata": {},
   "outputs": [
    {
     "name": "stdout",
     "output_type": "stream",
     "text": [
      "[['abaters', 'abreast'], ['achenes', 'enchase'], ['barging', 'garbing'], ['becharm', 'chamber'], ['courses', 'sources'], ['dealers', 'leaders'], ['dealing', 'leading'], ['earning', 'grannie'], ['earplug', 'graupel'], ['elution', 'outline'], ['enraged', 'grandee'], ['gallery', 'largely'], ['ganders', 'gardens'], ['garnish', 'sharing'], ['gastrin', 'gratins'], ['gillnet', 'telling'], ['glossed', 'godless']]\n"
     ]
    }
   ],
   "source": [
    "duds6 = get_duds(7, 'solutions/solutions_7.json')\n",
    "len(duds6)\n",
    "print(duds6)"
   ]
  },
  {
   "cell_type": "code",
   "execution_count": 49,
   "metadata": {},
   "outputs": [
    {
     "name": "stdout",
     "output_type": "stream",
     "text": [
      "17\n"
     ]
    }
   ],
   "source": [
    "print(len(duds6))"
   ]
  },
  {
   "cell_type": "code",
   "execution_count": 42,
   "metadata": {},
   "outputs": [
    {
     "name": "stdout",
     "output_type": "stream",
     "text": [
      "10\n",
      "[['anti', 'tian'], ['arch', 'char'], ['cami', 'mica'], ['chin', 'inch'], ['chit', 'itch'], ['keto', 'toke'], ['lyre', 'rely'], ['mise', 'semi'], ['pyro', 'ropy'], ['rota', 'taro']]\n"
     ]
    }
   ],
   "source": [
    "duds4 = get_duds('resources/words_four.txt', 'solutions/solutions_4.json')\n",
    "print(len(duds4))\n",
    "print(duds4)"
   ]
  },
  {
   "cell_type": "code",
   "execution_count": 43,
   "metadata": {},
   "outputs": [],
   "source": [
    "code = { 4 : 'four',\n",
    "        5 : 'five',\n",
    "        6 : 'six',\n",
    "        7 : 'seven',\n",
    "        8 : 'eight'}\n",
    "assembly = {}\n",
    "for i in range(4, 9):\n",
    "    assembly[i] = assemble(f'resources/words_{code[i]}.txt')\n",
    "    with open('assembly.json', 'w') as json_file:\n",
    "        json.dump(assembly, json_file, indent=4)"
   ]
  },
  {
   "cell_type": "code",
   "execution_count": 55,
   "metadata": {},
   "outputs": [],
   "source": [
    "duds5 = get_duds(5, 'solutions/solutions_5.json')"
   ]
  },
  {
   "cell_type": "code",
   "execution_count": 57,
   "metadata": {},
   "outputs": [],
   "source": [
    "duds4 = get_duds(4, 'solutions/solutions_4.json')"
   ]
  },
  {
   "cell_type": "code",
   "execution_count": 53,
   "metadata": {},
   "outputs": [],
   "source": [
    "from collections import defaultdict\n",
    "\n",
    "def make_dict(dud):\n",
    "    dudly_dict = {}\n",
    "    for char,  i in zip(dud, range(len(dud))):\n",
    "        dudly_dict[char] = i\n",
    "    return dudly_dict\n",
    "\n",
    "\n",
    "def get_dud_combos(duds):\n",
    "    dudlies = defaultdict(int)\n",
    "    for dud in duds:\n",
    "        dudly = make_dict(dud[0])\n",
    "        for duddy in dud[1:]:\n",
    "            combo = ''\n",
    "            for char in duddy:\n",
    "                combo += str(dudly[char])\n",
    "            dudlies[combo] += 1\n",
    "    return dudlies\n"
   ]
  },
  {
   "cell_type": "code",
   "execution_count": 56,
   "metadata": {},
   "outputs": [
    {
     "data": {
      "text/plain": [
       "defaultdict(int,\n",
       "            {'14023': 1,\n",
       "             '04231': 1,\n",
       "             '30242': 1,\n",
       "             '31204': 9,\n",
       "             '24301': 1,\n",
       "             '23014': 5,\n",
       "             '20431': 1,\n",
       "             '40231': 2,\n",
       "             '12403': 2,\n",
       "             '24103': 2,\n",
       "             '32041': 1,\n",
       "             '34012': 2,\n",
       "             '24013': 1,\n",
       "             '41203': 2,\n",
       "             '34021': 1,\n",
       "             '23041': 1,\n",
       "             '34221': 1,\n",
       "             '31244': 1,\n",
       "             '41320': 1,\n",
       "             '41230': 1,\n",
       "             '23401': 4,\n",
       "             '31240': 1,\n",
       "             '30241': 1,\n",
       "             '34204': 2})"
      ]
     },
     "execution_count": 56,
     "metadata": {},
     "output_type": "execute_result"
    }
   ],
   "source": [
    "get_dud_combos(duds5)"
   ]
  },
  {
   "cell_type": "code",
   "execution_count": 59,
   "metadata": {},
   "outputs": [
    {
     "data": {
      "text/plain": [
       "defaultdict(int, {'2301': 10})"
      ]
     },
     "execution_count": 59,
     "metadata": {},
     "output_type": "execute_result"
    }
   ],
   "source": [
    "get_dud_combos(duds4)"
   ]
  },
  {
   "cell_type": "code",
   "execution_count": 60,
   "metadata": {},
   "outputs": [
    {
     "data": {
      "text/plain": [
       "[['anti', 'tian'],\n",
       " ['arch', 'char'],\n",
       " ['cami', 'mica'],\n",
       " ['chin', 'inch'],\n",
       " ['chit', 'itch'],\n",
       " ['keto', 'toke'],\n",
       " ['lyre', 'rely'],\n",
       " ['mise', 'semi'],\n",
       " ['pyro', 'ropy'],\n",
       " ['rota', 'taro']]"
      ]
     },
     "execution_count": 60,
     "metadata": {},
     "output_type": "execute_result"
    }
   ],
   "source": [
    "duds4"
   ]
  }
 ],
 "metadata": {
  "kernelspec": {
   "display_name": "Python 3",
   "language": "python",
   "name": "python3"
  },
  "language_info": {
   "codemirror_mode": {
    "name": "ipython",
    "version": 3
   },
   "file_extension": ".py",
   "mimetype": "text/x-python",
   "name": "python",
   "nbconvert_exporter": "python",
   "pygments_lexer": "ipython3",
   "version": "3.11.5"
  }
 },
 "nbformat": 4,
 "nbformat_minor": 2
}
